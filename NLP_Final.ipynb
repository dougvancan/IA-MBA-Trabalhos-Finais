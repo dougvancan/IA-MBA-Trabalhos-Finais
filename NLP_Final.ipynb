{
  "nbformat": 4,
  "nbformat_minor": 0,
  "metadata": {
    "colab": {
      "name": "Trabalho_Temp.ipynb",
      "version": "0.3.2",
      "provenance": [],
      "collapsed_sections": [],
      "toc_visible": true
    },
    "kernelspec": {
      "name": "python3",
      "display_name": "Python 3"
    }
  },
  "cells": [
    {
      "metadata": {
        "id": "SMF40Fw9x7dG",
        "colab_type": "text"
      },
      "cell_type": "markdown",
      "source": [
        "# Exemplo de classificador de sentimentos"
      ]
    },
    {
      "metadata": {
        "id": "2UuO4_4Ddodk",
        "colab_type": "code",
        "outputId": "dd4dd889-335a-4005-d13d-ecdd4681fbd2",
        "colab": {
          "base_uri": "https://localhost:8080/",
          "height": 68
        }
      },
      "cell_type": "code",
      "source": [
        "import pandas as pd\n",
        "\n",
        "df = pd.read_csv('https://s3.amazonaws.com/aulas-fiap/imdb-reviews-pt-br.csv')\n",
        "\n",
        "df.sentiment.value_counts()"
      ],
      "execution_count": 0,
      "outputs": [
        {
          "output_type": "execute_result",
          "data": {
            "text/plain": [
              "neg    24765\n",
              "pos    24694\n",
              "Name: sentiment, dtype: int64"
            ]
          },
          "metadata": {
            "tags": []
          },
          "execution_count": 5
        }
      ]
    },
    {
      "metadata": {
        "id": "lyFHlEO5eDNM",
        "colab_type": "code",
        "outputId": "9c4f1ef5-1ecf-487b-d769-b64444ca02a0",
        "colab": {
          "base_uri": "https://localhost:8080/",
          "height": 204
        }
      },
      "cell_type": "code",
      "source": [
        "df.head()"
      ],
      "execution_count": 0,
      "outputs": [
        {
          "output_type": "execute_result",
          "data": {
            "text/html": [
              "<div>\n",
              "<style scoped>\n",
              "    .dataframe tbody tr th:only-of-type {\n",
              "        vertical-align: middle;\n",
              "    }\n",
              "\n",
              "    .dataframe tbody tr th {\n",
              "        vertical-align: top;\n",
              "    }\n",
              "\n",
              "    .dataframe thead th {\n",
              "        text-align: right;\n",
              "    }\n",
              "</style>\n",
              "<table border=\"1\" class=\"dataframe\">\n",
              "  <thead>\n",
              "    <tr style=\"text-align: right;\">\n",
              "      <th></th>\n",
              "      <th>id</th>\n",
              "      <th>text_en</th>\n",
              "      <th>text_pt</th>\n",
              "      <th>sentiment</th>\n",
              "    </tr>\n",
              "  </thead>\n",
              "  <tbody>\n",
              "    <tr>\n",
              "      <th>0</th>\n",
              "      <td>1</td>\n",
              "      <td>Once again Mr. Costner has dragged out a movie...</td>\n",
              "      <td>Mais uma vez, o Sr. Costner arrumou um filme p...</td>\n",
              "      <td>neg</td>\n",
              "    </tr>\n",
              "    <tr>\n",
              "      <th>1</th>\n",
              "      <td>2</td>\n",
              "      <td>This is an example of why the majority of acti...</td>\n",
              "      <td>Este é um exemplo do motivo pelo qual a maiori...</td>\n",
              "      <td>neg</td>\n",
              "    </tr>\n",
              "    <tr>\n",
              "      <th>2</th>\n",
              "      <td>3</td>\n",
              "      <td>First of all I hate those moronic rappers, who...</td>\n",
              "      <td>Primeiro de tudo eu odeio esses raps imbecis, ...</td>\n",
              "      <td>neg</td>\n",
              "    </tr>\n",
              "    <tr>\n",
              "      <th>3</th>\n",
              "      <td>4</td>\n",
              "      <td>Not even the Beatles could write songs everyon...</td>\n",
              "      <td>Nem mesmo os Beatles puderam escrever músicas ...</td>\n",
              "      <td>neg</td>\n",
              "    </tr>\n",
              "    <tr>\n",
              "      <th>4</th>\n",
              "      <td>5</td>\n",
              "      <td>Brass pictures movies is not a fitting word fo...</td>\n",
              "      <td>Filmes de fotos de latão não é uma palavra apr...</td>\n",
              "      <td>neg</td>\n",
              "    </tr>\n",
              "  </tbody>\n",
              "</table>\n",
              "</div>"
            ],
            "text/plain": [
              "   id                                            text_en  \\\n",
              "0   1  Once again Mr. Costner has dragged out a movie...   \n",
              "1   2  This is an example of why the majority of acti...   \n",
              "2   3  First of all I hate those moronic rappers, who...   \n",
              "3   4  Not even the Beatles could write songs everyon...   \n",
              "4   5  Brass pictures movies is not a fitting word fo...   \n",
              "\n",
              "                                             text_pt sentiment  \n",
              "0  Mais uma vez, o Sr. Costner arrumou um filme p...       neg  \n",
              "1  Este é um exemplo do motivo pelo qual a maiori...       neg  \n",
              "2  Primeiro de tudo eu odeio esses raps imbecis, ...       neg  \n",
              "3  Nem mesmo os Beatles puderam escrever músicas ...       neg  \n",
              "4  Filmes de fotos de latão não é uma palavra apr...       neg  "
            ]
          },
          "metadata": {
            "tags": []
          },
          "execution_count": 6
        }
      ]
    },
    {
      "metadata": {
        "id": "SX2h7R5DfRF8",
        "colab_type": "code",
        "outputId": "22f127a8-7234-4d4b-f391-efcf0aedee26",
        "colab": {
          "base_uri": "https://localhost:8080/",
          "height": 51
        }
      },
      "cell_type": "code",
      "source": [
        "from sklearn.feature_extraction.text import TfidfVectorizer\n",
        "import nltk\n",
        "nltk.download('stopwords')\n",
        "stops = nltk.corpus.stopwords.words('portuguese')\n",
        "\n",
        "vect = TfidfVectorizer(ngram_range=(1,3), use_idf=True,stop_words=stops)\n",
        "#vect = TfidfVectorizer(ngram_range=(1,2), use_idf=True,stop_words=stops, sublinear_tf = True, max_df =.67, min_df=.015,lowercase=False)\n",
        "\n",
        "vect.fit(df.text_pt)\n",
        "text_vect = vect.transform(df.text_pt)"
      ],
      "execution_count": 0,
      "outputs": [
        {
          "output_type": "stream",
          "text": [
            "[nltk_data] Downloading package stopwords to /root/nltk_data...\n",
            "[nltk_data]   Package stopwords is already up-to-date!\n"
          ],
          "name": "stdout"
        }
      ]
    },
    {
      "metadata": {
        "id": "_uD4m1hwfUT8",
        "colab_type": "code",
        "outputId": "be603a70-624a-4317-a633-fcd74b751b9e",
        "colab": {
          "base_uri": "https://localhost:8080/",
          "height": 34
        }
      },
      "cell_type": "code",
      "source": [
        "text_vect.shape"
      ],
      "execution_count": 0,
      "outputs": [
        {
          "output_type": "execute_result",
          "data": {
            "text/plain": [
              "(49459, 8638447)"
            ]
          },
          "metadata": {
            "tags": []
          },
          "execution_count": 8
        }
      ]
    },
    {
      "metadata": {
        "id": "3TNcZ49UhkEG",
        "colab_type": "code",
        "colab": {}
      },
      "cell_type": "code",
      "source": [
        "from sklearn.model_selection import train_test_split\n",
        "\n",
        "X_train,X_test,y_train,y_test = train_test_split(\n",
        "    text_vect, \n",
        "    df.sentiment,\n",
        "    test_size = 0.2, \n",
        "    random_state = 42\n",
        ")"
      ],
      "execution_count": 0,
      "outputs": []
    },
    {
      "metadata": {
        "id": "5QsES06CgYH1",
        "colab_type": "code",
        "colab": {}
      },
      "cell_type": "code",
      "source": [
        "from sklearn.tree import DecisionTreeClassifier\n",
        "from sklearn.metrics import f1_score\n",
        "\n",
        "tree = DecisionTreeClassifier(random_state=42)\n",
        "tree.fit(X_train, y_train)\n",
        "\n",
        "y_prediction = tree.predict(X_test)\n",
        "\n",
        "f1 = f1_score(y_prediction, y_test, average='weighted')\n",
        "\n",
        "print(f1)"
      ],
      "execution_count": 0,
      "outputs": []
    },
    {
      "metadata": {
        "id": "cOm2u9XLGP-Z",
        "colab_type": "text"
      },
      "cell_type": "markdown",
      "source": [
        "# Utilização do método LinearSVC"
      ]
    },
    {
      "metadata": {
        "id": "rAryGMSxGOme",
        "colab_type": "code",
        "colab": {}
      },
      "cell_type": "code",
      "source": [
        "from sklearn.metrics import accuracy_score\n",
        "from sklearn.svm import LinearSVC\n",
        "from sklearn.feature_extraction.text import TfidfVectorizer\n",
        "import nltk\n",
        "from sklearn.model_selection import train_test_split\n",
        "from sklearn.metrics import f1_score\n",
        "\n",
        "nltk.download('stopwords')\n",
        "stops = nltk.corpus.stopwords.words('portuguese')\n",
        "\n",
        "vect = TfidfVectorizer(ngram_range=(1,3), use_idf=True,stop_words=stops)\n",
        "#vect = TfidfVectorizer(ngram_range=(1,2), use_idf=True,stop_words=stops, sublinear_tf = True, max_df =.67, min_df=.015,lowercase=False)\n",
        "\n",
        "vect.fit(df.text_pt)\n",
        "text_vect = vect.transform(df.text_pt)\n",
        "\n",
        "\n",
        "\n",
        "X_train,X_test,y_train,y_test = train_test_split(\n",
        "    text_vect, \n",
        "    df.sentiment,\n",
        "    test_size = 0.2, \n",
        "    random_state = 42\n",
        ")\n",
        "\n",
        "# Training\n",
        "model = LinearSVC()\n",
        "model.fit(X_train, y_train)\n",
        "y_prediction = model.predict(X_test)\n",
        "\n",
        "f1 = f1_score(y_prediction, y_test, average='weighted')\n",
        "\n",
        "print(f1)"
      ],
      "execution_count": 0,
      "outputs": []
    },
    {
      "metadata": {
        "id": "d-LhHcd1-KwP",
        "colab_type": "text"
      },
      "cell_type": "markdown",
      "source": [
        "# Utilização do método TextBlob e Vader de análise de sentimento\n",
        "\n",
        "\n",
        "\n"
      ]
    },
    {
      "metadata": {
        "id": "wSG5TtsRpVJY",
        "colab_type": "code",
        "colab": {}
      },
      "cell_type": "code",
      "source": [
        "!pip install textblob vadersentiment\n",
        "from textblob import TextBlob\n",
        "from vaderSentiment.vaderSentiment import SentimentIntensityAnalyzer\n"
      ],
      "execution_count": 0,
      "outputs": []
    },
    {
      "metadata": {
        "id": "GJf8ozYU-kjB",
        "colab_type": "text"
      },
      "cell_type": "markdown",
      "source": [
        "# TextBlob"
      ]
    },
    {
      "metadata": {
        "id": "w4wgZ80iqWDR",
        "colab_type": "code",
        "colab": {}
      },
      "cell_type": "code",
      "source": [
        "for index, row in df.iterrows():\n",
        "    analysis = TextBlob(row['text_en'])\n",
        " \n",
        "    if analysis.sentiment.polarity > 0.2 and analysis.sentiment.subjectivity > 0.1:\n",
        "      df.loc[index, 'sentiment_TextBlob'] = 'pos'\n",
        "\n",
        "    else:\n",
        "      df.loc[index, 'sentiment_TextBlob'] = 'neg'\n",
        "\n",
        "\n",
        "   "
      ],
      "execution_count": 0,
      "outputs": []
    },
    {
      "metadata": {
        "id": "llgFHfQtzlTJ",
        "colab_type": "code",
        "colab": {}
      },
      "cell_type": "code",
      "source": [
        "from sklearn.metrics import f1_score\n",
        "\n",
        "print(df.pivot_table(index = 'sentiment', columns = 'sentiment_TextBlob', values = 'text_en' , aggfunc='count'))\n",
        "\n",
        "f1 = f1_score(df['sentiment_TextBlob'], df['sentiment'], average='weighted')\n",
        "\n",
        "\n",
        "\n",
        "print(f1)"
      ],
      "execution_count": 0,
      "outputs": []
    },
    {
      "metadata": {
        "id": "COIHiQIJ-vOQ",
        "colab_type": "text"
      },
      "cell_type": "markdown",
      "source": [
        ""
      ]
    },
    {
      "metadata": {
        "id": "bhjPM9eB-zEV",
        "colab_type": "code",
        "colab": {}
      },
      "cell_type": "code",
      "source": [
        "analysis = SentimentIntensityAnalyzer()\n",
        "\n",
        "for index, row in df.iterrows():\n",
        "    vs = analysis.polarity_scores(row['text_en']) \n",
        " \n",
        "    if vs['pos']-vs['neg'] > 0.2:\n",
        "      df.loc[index, 'sentiment_Vader'] = 'pos'\n",
        "\n",
        "    else:\n",
        "      df.loc[index, 'sentiment_Vader'] = 'neg'\n",
        "\n",
        "      \n",
        "      \n",
        "from sklearn.metrics import f1_score\n",
        "\n",
        "print(df.pivot_table(index = 'sentiment', columns = 'sentiment_Vader', values = 'text_en' , aggfunc='count'))\n",
        "\n",
        "f1 = f1_score(df['sentiment_Vader'], df['sentiment'], average='weighted')\n",
        "\n",
        "\n",
        "\n",
        "print(f1)      \n",
        "      \n",
        "      "
      ],
      "execution_count": 0,
      "outputs": []
    }
  ]
}